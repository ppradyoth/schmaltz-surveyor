{
 "cells": [
  {
   "cell_type": "markdown",
   "id": "206a580d",
   "metadata": {},
   "source": [
    "## Importing the Modules"
   ]
  },
  {
   "cell_type": "code",
   "execution_count": 29,
   "id": "342bc56c",
   "metadata": {},
   "outputs": [],
   "source": [
    "#import the libraries\n",
    "import pandas as pd\n",
    "import numpy as np\n",
    "import re\n",
    "import matplotlib.pyplot as plt\n",
    "import seaborn as sns\n",
    "import string\n",
    "import nltk\n",
    "import warnings\n",
    "from IPython.display import display,HTML \n",
    "\n",
    "warnings.filterwarnings('ignore')"
   ]
  },
  {
   "cell_type": "markdown",
   "id": "34e9130b",
   "metadata": {},
   "source": [
    "## Loading the Dataset"
   ]
  },
  {
   "cell_type": "code",
   "execution_count": 30,
   "id": "abf4971e",
   "metadata": {},
   "outputs": [
    {
     "data": {
      "text/html": [
       "<div>\n",
       "<style scoped>\n",
       "    .dataframe tbody tr th:only-of-type {\n",
       "        vertical-align: middle;\n",
       "    }\n",
       "\n",
       "    .dataframe tbody tr th {\n",
       "        vertical-align: top;\n",
       "    }\n",
       "\n",
       "    .dataframe thead th {\n",
       "        text-align: right;\n",
       "    }\n",
       "</style>\n",
       "<table border=\"1\" class=\"dataframe\">\n",
       "  <thead>\n",
       "    <tr style=\"text-align: right;\">\n",
       "      <th></th>\n",
       "      <th>id</th>\n",
       "      <th>label</th>\n",
       "      <th>tweet</th>\n",
       "    </tr>\n",
       "  </thead>\n",
       "  <tbody>\n",
       "    <tr>\n",
       "      <th>0</th>\n",
       "      <td>1</td>\n",
       "      <td>1</td>\n",
       "      <td>@user when a father is dysfunctional and is s...</td>\n",
       "    </tr>\n",
       "    <tr>\n",
       "      <th>1</th>\n",
       "      <td>2</td>\n",
       "      <td>1</td>\n",
       "      <td>@user @user thanks for #lyft credit i can't us...</td>\n",
       "    </tr>\n",
       "    <tr>\n",
       "      <th>2</th>\n",
       "      <td>3</td>\n",
       "      <td>1</td>\n",
       "      <td>bihday your majesty</td>\n",
       "    </tr>\n",
       "    <tr>\n",
       "      <th>3</th>\n",
       "      <td>4</td>\n",
       "      <td>1</td>\n",
       "      <td>#model   i love u take with u all the time in ...</td>\n",
       "    </tr>\n",
       "    <tr>\n",
       "      <th>4</th>\n",
       "      <td>5</td>\n",
       "      <td>1</td>\n",
       "      <td>factsguide: society now    #motivation</td>\n",
       "    </tr>\n",
       "  </tbody>\n",
       "</table>\n",
       "</div>"
      ],
      "text/plain": [
       "   id  label                                              tweet\n",
       "0   1      1   @user when a father is dysfunctional and is s...\n",
       "1   2      1  @user @user thanks for #lyft credit i can't us...\n",
       "2   3      1                                bihday your majesty\n",
       "3   4      1  #model   i love u take with u all the time in ...\n",
       "4   5      1             factsguide: society now    #motivation"
      ]
     },
     "execution_count": 30,
     "metadata": {},
     "output_type": "execute_result"
    }
   ],
   "source": [
    "df = pd.read_csv('train.csv')\n",
    "df.head()\n",
    "  "
   ]
  },
  {
   "cell_type": "code",
   "execution_count": 28,
   "id": "df883178",
   "metadata": {},
   "outputs": [
    {
     "name": "stdout",
     "output_type": "stream",
     "text": [
      "          id  label                                              tweet\n",
      "0          1      0   @user when a father is dysfunctional and is s...\n",
      "1          2      0  @user @user thanks for #lyft credit i can't us...\n",
      "2          3      0                                bihday your majesty\n",
      "3          4      0  #model   i love u take with u all the time in ...\n",
      "4          5      0             factsguide: society now    #motivation\n",
      "...      ...    ...                                                ...\n",
      "31957  31958      0  ate @user isz that youuu?ðððððð...\n",
      "31958  31959      0    to see nina turner on the airwaves trying to...\n",
      "31959  31960      0  listening to sad songs on a monday morning otw...\n",
      "31960  31961      1  @user #sikh #temple vandalised in in #calgary,...\n",
      "31961  31962      0                   thank you @user for you follow  \n",
      "\n",
      "[31962 rows x 3 columns]\n"
     ]
    }
   ],
   "source": [
    "df['label'] = df['label'].apply(lambda x:0 if x == 1 else 1)\n",
    "print(df)"
   ]
  },
  {
   "cell_type": "code",
   "execution_count": 31,
   "id": "f15a8f3c",
   "metadata": {},
   "outputs": [
    {
     "name": "stdout",
     "output_type": "stream",
     "text": [
      "<class 'pandas.core.frame.DataFrame'>\n",
      "RangeIndex: 31962 entries, 0 to 31961\n",
      "Data columns (total 3 columns):\n",
      " #   Column  Non-Null Count  Dtype \n",
      "---  ------  --------------  ----- \n",
      " 0   id      31962 non-null  int64 \n",
      " 1   label   31962 non-null  int64 \n",
      " 2   tweet   31962 non-null  object\n",
      "dtypes: int64(2), object(1)\n",
      "memory usage: 749.2+ KB\n"
     ]
    }
   ],
   "source": [
    "#datatype info\n",
    "df.info()"
   ]
  },
  {
   "cell_type": "markdown",
   "id": "e4230c12",
   "metadata": {},
   "source": [
    "## Preprocessing Data"
   ]
  },
  {
   "cell_type": "code",
   "execution_count": 32,
   "id": "3b2c90e6",
   "metadata": {},
   "outputs": [
    {
     "data": {
      "text/html": [
       "<table border=\"1\" class=\"dataframe\">\n",
       "  <thead>\n",
       "    <tr style=\"text-align: right;\">\n",
       "      <th></th>\n",
       "      <th>col</th>\n",
       "      <th>missing</th>\n",
       "    </tr>\n",
       "  </thead>\n",
       "  <tbody>\n",
       "    <tr>\n",
       "      <th>0</th>\n",
       "      <td>id</td>\n",
       "      <td>0        False\n",
       "1        False\n",
       "2        False\n",
       "3        False\n",
       "4        False\n",
       "         ...  \n",
       "31957    False\n",
       "31958    False\n",
       "31959    False\n",
       "31960    False\n",
       "31961    False\n",
       "Name: id, Length: 31962, dtype: bool</td>\n",
       "    </tr>\n",
       "    <tr>\n",
       "      <th>1</th>\n",
       "      <td>label</td>\n",
       "      <td>0        False\n",
       "1        False\n",
       "2        False\n",
       "3        False\n",
       "4        False\n",
       "         ...  \n",
       "31957    False\n",
       "31958    False\n",
       "31959    False\n",
       "31960    False\n",
       "31961    False\n",
       "Name: label, Length: 31962, dtype: bool</td>\n",
       "    </tr>\n",
       "    <tr>\n",
       "      <th>2</th>\n",
       "      <td>tweet</td>\n",
       "      <td>0        False\n",
       "1        False\n",
       "2        False\n",
       "3        False\n",
       "4        False\n",
       "         ...  \n",
       "31957    False\n",
       "31958    False\n",
       "31959    False\n",
       "31960    False\n",
       "31961    False\n",
       "Name: tweet, Length: 31962, dtype: bool</td>\n",
       "    </tr>\n",
       "  </tbody>\n",
       "</table>"
      ],
      "text/plain": [
       "<IPython.core.display.HTML object>"
      ]
     },
     "metadata": {},
     "output_type": "display_data"
    },
    {
     "name": "stdout",
     "output_type": "stream",
     "text": [
      "          id  label                                              tweet\n",
      "0          1      1   @user when a father is dysfunctional and is s...\n",
      "1          2      1  @user @user thanks for #lyft credit i can't us...\n",
      "2          3      1                                bihday your majesty\n",
      "3          4      1  #model   i love u take with u all the time in ...\n",
      "4          5      1             factsguide: society now    #motivation\n",
      "...      ...    ...                                                ...\n",
      "31957  31958      1  ate @user isz that youuu?ðððððð...\n",
      "31958  31959      1    to see nina turner on the airwaves trying to...\n",
      "31959  31960      1  listening to sad songs on a monday morning otw...\n",
      "31960  31961      0  @user #sikh #temple vandalised in in #calgary,...\n",
      "31961  31962      1                   thank you @user for you follow  \n",
      "\n",
      "[31962 rows x 3 columns]\n"
     ]
    }
   ],
   "source": [
    "values_list=list()\n",
    "cols_list=list()\n",
    "for col in df.columns:\n",
    "    missing=df[col].isnull()\n",
    "    cols_list.append(col)\n",
    "    values_list.append(missing)\n",
    "missing_df = pd.DataFrame()\n",
    "missing_df['col'] = cols_list\n",
    "missing_df['missing'] = values_list\n",
    "display(HTML(missing_df.to_html()))\n",
    "\n",
    "df=df.dropna(how='any',axis=0)\n",
    "df.shape\n",
    "print(df)\n",
    "\n"
   ]
  },
  {
   "cell_type": "code",
   "execution_count": 33,
   "id": "f8a01985",
   "metadata": {},
   "outputs": [
    {
     "data": {
      "text/html": [
       "<div>\n",
       "<style scoped>\n",
       "    .dataframe tbody tr th:only-of-type {\n",
       "        vertical-align: middle;\n",
       "    }\n",
       "\n",
       "    .dataframe tbody tr th {\n",
       "        vertical-align: top;\n",
       "    }\n",
       "\n",
       "    .dataframe thead th {\n",
       "        text-align: right;\n",
       "    }\n",
       "</style>\n",
       "<table border=\"1\" class=\"dataframe\">\n",
       "  <thead>\n",
       "    <tr style=\"text-align: right;\">\n",
       "      <th></th>\n",
       "      <th>id</th>\n",
       "      <th>label</th>\n",
       "      <th>tweet</th>\n",
       "    </tr>\n",
       "  </thead>\n",
       "  <tbody>\n",
       "    <tr>\n",
       "      <th>0</th>\n",
       "      <td>1</td>\n",
       "      <td>1</td>\n",
       "      <td>@user when a father is dysfunctional and is s...</td>\n",
       "    </tr>\n",
       "    <tr>\n",
       "      <th>1</th>\n",
       "      <td>2</td>\n",
       "      <td>1</td>\n",
       "      <td>@user @user thanks for #lyft credit i can't us...</td>\n",
       "    </tr>\n",
       "    <tr>\n",
       "      <th>2</th>\n",
       "      <td>3</td>\n",
       "      <td>1</td>\n",
       "      <td>bihday your majesty</td>\n",
       "    </tr>\n",
       "    <tr>\n",
       "      <th>3</th>\n",
       "      <td>4</td>\n",
       "      <td>1</td>\n",
       "      <td>#model   i love u take with u all the time in ...</td>\n",
       "    </tr>\n",
       "    <tr>\n",
       "      <th>4</th>\n",
       "      <td>5</td>\n",
       "      <td>1</td>\n",
       "      <td>factsguide: society now    #motivation</td>\n",
       "    </tr>\n",
       "  </tbody>\n",
       "</table>\n",
       "</div>"
      ],
      "text/plain": [
       "   id  label                                              tweet\n",
       "0   1      1   @user when a father is dysfunctional and is s...\n",
       "1   2      1  @user @user thanks for #lyft credit i can't us...\n",
       "2   3      1                                bihday your majesty\n",
       "3   4      1  #model   i love u take with u all the time in ...\n",
       "4   5      1             factsguide: society now    #motivation"
      ]
     },
     "execution_count": 33,
     "metadata": {},
     "output_type": "execute_result"
    }
   ],
   "source": [
    "df.head()\n"
   ]
  },
  {
   "cell_type": "code",
   "execution_count": 34,
   "id": "a869de3b",
   "metadata": {},
   "outputs": [
    {
     "name": "stdout",
     "output_type": "stream",
     "text": [
      "          id  label                                              tweet\n",
      "0          1      1   @user when a father is dysfunctional and is s...\n",
      "1          2      1  @user @user thanks for #lyft credit i can't us...\n",
      "2          3      1                                bihday your majesty\n",
      "3          4      1  #model   i love u take with u all the time in ...\n",
      "4          5      1             factsguide: society now    #motivation\n",
      "...      ...    ...                                                ...\n",
      "31957  31958      1  ate @user isz that youuu?ðððððð...\n",
      "31958  31959      1    to see nina turner on the airwaves trying to...\n",
      "31959  31960      1  listening to sad songs on a monday morning otw...\n",
      "31960  31961      0  @user #sikh #temple vandalised in in #calgary,...\n",
      "31961  31962      1                   thank you @user for you follow  \n",
      "\n",
      "[31962 rows x 3 columns]\n"
     ]
    }
   ],
   "source": [
    "df['tweet']=df['tweet'].str.lower()\n",
    "df.to_csv(\"train.csv\",index=False)\n",
    "print(df)"
   ]
  },
  {
   "cell_type": "code",
   "execution_count": 35,
   "id": "2886fe68",
   "metadata": {},
   "outputs": [
    {
     "name": "stdout",
     "output_type": "stream",
     "text": [
      "          id  label                                              tweet  \\\n",
      "0          1      1   @user when a father is dysfunctional and is s...   \n",
      "1          2      1  @user @user thanks for #lyft credit i can't us...   \n",
      "2          3      1                                bihday your majesty   \n",
      "3          4      1  #model   i love u take with u all the time in ...   \n",
      "4          5      1             factsguide: society now    #motivation   \n",
      "...      ...    ...                                                ...   \n",
      "31957  31958      1  ate @user isz that youuu?ðððððð...   \n",
      "31958  31959      1    to see nina turner on the airwaves trying to...   \n",
      "31959  31960      1  listening to sad songs on a monday morning otw...   \n",
      "31960  31961      0  @user #sikh #temple vandalised in in #calgary,...   \n",
      "31961  31962      1                   thank you @user for you follow     \n",
      "\n",
      "                                             clean_tweet  \n",
      "0         when a father is dysfunctional and is so se...  \n",
      "1          thanks for  lyft credit i can't use cause ...  \n",
      "2                                    bihday your majesty  \n",
      "3       model   i love u take with u all the time in ...  \n",
      "4                 factsguide: society now     motivation  \n",
      "...                                                  ...  \n",
      "31957                            ate   isz that youuu?    \n",
      "31958    to see nina turner on the airwaves trying to...  \n",
      "31959  listening to sad songs on a monday morning otw...  \n",
      "31960     sikh  temple vandalised in in  calgary,  ws...  \n",
      "31961                       thank you   for you follow    \n",
      "\n",
      "[31962 rows x 4 columns]\n"
     ]
    }
   ],
   "source": [
    "def cleanText(text):\n",
    "    text=re.sub(r'@[A-Za-z0-9]+',' ',text) #removed @ mentions\n",
    "    text=re.sub(r'#',' ', text)#removing # sympbol\n",
    "    text=re.sub(r'RT[\\s]+',' ', text) #removing RT\n",
    "    text=re.sub(r'https?:\\/\\/\\S+',' ',text) #removing hyperlinks\n",
    "    text=re.sub(r'[^\\x00-\\x7F]+',' ', text)\n",
    "\n",
    "    return text \n",
    "\n",
    "df['clean_tweet']=df['tweet'].apply(cleanText) \n",
    "print(df)   "
   ]
  },
  {
   "cell_type": "code",
   "execution_count": 36,
   "id": "1536511f",
   "metadata": {},
   "outputs": [
    {
     "data": {
      "text/plain": [
       "0    [when, a, father, is, dysfunctional, and, is, ...\n",
       "1    [thanks, for, lyft, credit, i, can't, use, cau...\n",
       "2                              [bihday, your, majesty]\n",
       "3    [model, i, love, u, take, with, u, all, the, t...\n",
       "4              [factsguide:, society, now, motivation]\n",
       "Name: clean_tweet, dtype: object"
      ]
     },
     "execution_count": 36,
     "metadata": {},
     "output_type": "execute_result"
    }
   ],
   "source": [
    "#individual words considered as tokens\n",
    "tokenized_tweet = df['clean_tweet'].apply(lambda x: x.split())\n",
    "tokenized_tweet.head()"
   ]
  },
  {
   "cell_type": "markdown",
   "id": "46bd363d",
   "metadata": {},
   "source": [
    "#stem the words"
   ]
  },
  {
   "cell_type": "code",
   "execution_count": 37,
   "id": "58bae239",
   "metadata": {},
   "outputs": [
    {
     "data": {
      "text/plain": [
       "0    [when, a, father, is, dysfunct, and, is, so, s...\n",
       "1    [thank, for, lyft, credit, i, can't, use, caus...\n",
       "2                              [bihday, your, majesti]\n",
       "3    [model, i, love, u, take, with, u, all, the, t...\n",
       "4                   [factsguide:, societi, now, motiv]\n",
       "Name: clean_tweet, dtype: object"
      ]
     },
     "execution_count": 37,
     "metadata": {},
     "output_type": "execute_result"
    }
   ],
   "source": [
    "from nltk.stem.porter import PorterStemmer\n",
    "stemmer = PorterStemmer()\n",
    "tokenized_tweet = tokenized_tweet.apply(lambda sentence: [stemmer.stem(word) for word in sentence])\n",
    "tokenized_tweet.head()"
   ]
  },
  {
   "cell_type": "code",
   "execution_count": 38,
   "id": "1bd7b692",
   "metadata": {},
   "outputs": [
    {
     "data": {
      "text/html": [
       "<div>\n",
       "<style scoped>\n",
       "    .dataframe tbody tr th:only-of-type {\n",
       "        vertical-align: middle;\n",
       "    }\n",
       "\n",
       "    .dataframe tbody tr th {\n",
       "        vertical-align: top;\n",
       "    }\n",
       "\n",
       "    .dataframe thead th {\n",
       "        text-align: right;\n",
       "    }\n",
       "</style>\n",
       "<table border=\"1\" class=\"dataframe\">\n",
       "  <thead>\n",
       "    <tr style=\"text-align: right;\">\n",
       "      <th></th>\n",
       "      <th>id</th>\n",
       "      <th>label</th>\n",
       "      <th>tweet</th>\n",
       "      <th>clean_tweet</th>\n",
       "    </tr>\n",
       "  </thead>\n",
       "  <tbody>\n",
       "    <tr>\n",
       "      <th>0</th>\n",
       "      <td>1</td>\n",
       "      <td>1</td>\n",
       "      <td>@user when a father is dysfunctional and is s...</td>\n",
       "      <td>when a father is dysfunct and is so selfish he...</td>\n",
       "    </tr>\n",
       "    <tr>\n",
       "      <th>1</th>\n",
       "      <td>2</td>\n",
       "      <td>1</td>\n",
       "      <td>@user @user thanks for #lyft credit i can't us...</td>\n",
       "      <td>thank for lyft credit i can't use caus they do...</td>\n",
       "    </tr>\n",
       "    <tr>\n",
       "      <th>2</th>\n",
       "      <td>3</td>\n",
       "      <td>1</td>\n",
       "      <td>bihday your majesty</td>\n",
       "      <td>bihday your majesti</td>\n",
       "    </tr>\n",
       "    <tr>\n",
       "      <th>3</th>\n",
       "      <td>4</td>\n",
       "      <td>1</td>\n",
       "      <td>#model   i love u take with u all the time in ...</td>\n",
       "      <td>model i love u take with u all the time in ur !!!</td>\n",
       "    </tr>\n",
       "    <tr>\n",
       "      <th>4</th>\n",
       "      <td>5</td>\n",
       "      <td>1</td>\n",
       "      <td>factsguide: society now    #motivation</td>\n",
       "      <td>factsguide: societi now motiv</td>\n",
       "    </tr>\n",
       "  </tbody>\n",
       "</table>\n",
       "</div>"
      ],
      "text/plain": [
       "   id  label                                              tweet  \\\n",
       "0   1      1   @user when a father is dysfunctional and is s...   \n",
       "1   2      1  @user @user thanks for #lyft credit i can't us...   \n",
       "2   3      1                                bihday your majesty   \n",
       "3   4      1  #model   i love u take with u all the time in ...   \n",
       "4   5      1             factsguide: society now    #motivation   \n",
       "\n",
       "                                         clean_tweet  \n",
       "0  when a father is dysfunct and is so selfish he...  \n",
       "1  thank for lyft credit i can't use caus they do...  \n",
       "2                                bihday your majesti  \n",
       "3  model i love u take with u all the time in ur !!!  \n",
       "4                      factsguide: societi now motiv  "
      ]
     },
     "execution_count": 38,
     "metadata": {},
     "output_type": "execute_result"
    }
   ],
   "source": [
    "#combine the words into single sentence\n",
    "for i in range(len(tokenized_tweet)):\n",
    "    tokenized_tweet[i]=\" \".join(tokenized_tweet[i])\n",
    "df['clean_tweet']=tokenized_tweet\n",
    "df.head()"
   ]
  },
  {
   "cell_type": "code",
   "execution_count": 39,
   "id": "9e06abe4",
   "metadata": {},
   "outputs": [
    {
     "name": "stdout",
     "output_type": "stream",
     "text": [
      "          id  label                                              tweet  \\\n",
      "0          1      1   @user when a father is dysfunctional and is s...   \n",
      "1          2      1  @user @user thanks for #lyft credit i can't us...   \n",
      "2          3      1                                bihday your majesty   \n",
      "3          4      1  #model   i love u take with u all the time in ...   \n",
      "4          5      1             factsguide: society now    #motivation   \n",
      "...      ...    ...                                                ...   \n",
      "31957  31958      1  ate @user isz that youuu?ðððððð...   \n",
      "31958  31959      1    to see nina turner on the airwaves trying to...   \n",
      "31959  31960      1  listening to sad songs on a monday morning otw...   \n",
      "31960  31961      0  @user #sikh #temple vandalised in in #calgary,...   \n",
      "31961  31962      1                   thank you @user for you follow     \n",
      "\n",
      "                                             clean_tweet  \n",
      "0      father dysfunct selfish drag hi kid hi dysfunc...  \n",
      "1      thank lyft credit can't use caus offer wheelch...  \n",
      "2                                         bihday majesti  \n",
      "3                        model love u take u time ur !!!  \n",
      "4                              factsguide: societi motiv  \n",
      "...                                                  ...  \n",
      "31957                                     ate isz youuu?  \n",
      "31958  see nina turner airwav tri wrap mantl genuin h...  \n",
      "31959           listen sad song monday morn otw work sad  \n",
      "31960       sikh templ vandalis calgary, wso condemn act  \n",
      "31961                                       thank follow  \n",
      "\n",
      "[31962 rows x 4 columns]\n"
     ]
    }
   ],
   "source": [
    "from nltk.corpus import stopwords\n",
    "stop = stopwords.words('english')\n",
    "df['clean_tweet']=df['clean_tweet'].apply(lambda x: \" \".join([x for x in x.split() if x not in stop]))\n",
    "print(df)"
   ]
  },
  {
   "cell_type": "markdown",
   "id": "b5ffb1d4",
   "metadata": {},
   "source": [
    "## Exploratory Data Analysis"
   ]
  },
  {
   "cell_type": "code",
   "execution_count": 54,
   "id": "9e00f6ff",
   "metadata": {},
   "outputs": [
    {
     "ename": "ModuleNotFoundError",
     "evalue": "No module named 'wordcloud'",
     "output_type": "error",
     "traceback": [
      "\u001b[1;31m---------------------------------------------------------------------------\u001b[0m",
      "\u001b[1;31mModuleNotFoundError\u001b[0m                       Traceback (most recent call last)",
      "\u001b[1;32mc:\\Users\\Nithya\\schmaltz-surveyor\\LogisticRegression Model.ipynb Cell 20'\u001b[0m in \u001b[0;36m<cell line: 4>\u001b[1;34m()\u001b[0m\n\u001b[0;32m      <a href='vscode-notebook-cell:/c%3A/Users/Nithya/schmaltz-surveyor/LogisticRegression%20Model.ipynb#ch0000019?line=0'>1</a>\u001b[0m \u001b[39m#frequent word visualization\u001b[39;00m\n\u001b[0;32m      <a href='vscode-notebook-cell:/c%3A/Users/Nithya/schmaltz-surveyor/LogisticRegression%20Model.ipynb#ch0000019?line=1'>2</a>\u001b[0m all_words \u001b[39m=\u001b[39m \u001b[39m\"\u001b[39m\u001b[39m \u001b[39m\u001b[39m\"\u001b[39m\u001b[39m.\u001b[39mjoin([sentence \u001b[39mfor\u001b[39;00m sentence \u001b[39min\u001b[39;00m df[\u001b[39m'\u001b[39m\u001b[39mclean_tweet\u001b[39m\u001b[39m'\u001b[39m]])\n\u001b[1;32m----> <a href='vscode-notebook-cell:/c%3A/Users/Nithya/schmaltz-surveyor/LogisticRegression%20Model.ipynb#ch0000019?line=3'>4</a>\u001b[0m \u001b[39mfrom\u001b[39;00m \u001b[39mwordcloud\u001b[39;00m \u001b[39mimport\u001b[39;00m WordCloud\n\u001b[0;32m      <a href='vscode-notebook-cell:/c%3A/Users/Nithya/schmaltz-surveyor/LogisticRegression%20Model.ipynb#ch0000019?line=4'>5</a>\u001b[0m wordcloud \u001b[39m=\u001b[39m WordCloud(width\u001b[39m=\u001b[39m\u001b[39m800\u001b[39m, height\u001b[39m=\u001b[39m\u001b[39m500\u001b[39m, random_state\u001b[39m=\u001b[39m\u001b[39m42\u001b[39m, max_font_size\u001b[39m=\u001b[39m\u001b[39m100\u001b[39m)\u001b[39m.\u001b[39mgenerate(all_words)\n\u001b[0;32m      <a href='vscode-notebook-cell:/c%3A/Users/Nithya/schmaltz-surveyor/LogisticRegression%20Model.ipynb#ch0000019?line=6'>7</a>\u001b[0m \u001b[39m#plot the graph\u001b[39;00m\n",
      "\u001b[1;31mModuleNotFoundError\u001b[0m: No module named 'wordcloud'"
     ]
    }
   ],
   "source": [
    "#frequent word visualization\n",
    "all_words = \" \".join([sentence for sentence in df['clean_tweet']])\n",
    "wordcloud = WordCloud(width=800, height=500, random_state=42, max_font_size=100).generate(all_words)\n",
    "\n",
    "#plot the graph\n",
    "plt.figure(figsize=(15,8))\n",
    "plt.imshow(wordcloud, interpolation='bilinear')\n",
    "plt.axis('off')\n",
    "plt.show()"
   ]
  },
  {
   "cell_type": "code",
   "execution_count": null,
   "id": "1785b09f",
   "metadata": {},
   "outputs": [
    {
     "ename": "NameError",
     "evalue": "name 'WordCloud' is not defined",
     "output_type": "error",
     "traceback": [
      "\u001b[1;31m---------------------------------------------------------------------------\u001b[0m",
      "\u001b[1;31mNameError\u001b[0m                                 Traceback (most recent call last)",
      "\u001b[1;32mc:\\Users\\Nithya\\schmaltz-surveyor\\LogisticRegression Model.ipynb Cell 21'\u001b[0m in \u001b[0;36m<cell line: 3>\u001b[1;34m()\u001b[0m\n\u001b[0;32m      <a href='vscode-notebook-cell:/c%3A/Users/Nithya/schmaltz-surveyor/LogisticRegression%20Model.ipynb#ch0000020?line=0'>1</a>\u001b[0m \u001b[39m#frequent word visualization for +ve\u001b[39;00m\n\u001b[0;32m      <a href='vscode-notebook-cell:/c%3A/Users/Nithya/schmaltz-surveyor/LogisticRegression%20Model.ipynb#ch0000020?line=1'>2</a>\u001b[0m all_words \u001b[39m=\u001b[39m \u001b[39m\"\u001b[39m\u001b[39m \u001b[39m\u001b[39m\"\u001b[39m\u001b[39m.\u001b[39mjoin([sentence \u001b[39mfor\u001b[39;00m sentence \u001b[39min\u001b[39;00m df[\u001b[39m'\u001b[39m\u001b[39mclean_tweet\u001b[39m\u001b[39m'\u001b[39m][df[\u001b[39m'\u001b[39m\u001b[39mlabel\u001b[39m\u001b[39m'\u001b[39m]\u001b[39m==\u001b[39m\u001b[39m0\u001b[39m]])\n\u001b[1;32m----> <a href='vscode-notebook-cell:/c%3A/Users/Nithya/schmaltz-surveyor/LogisticRegression%20Model.ipynb#ch0000020?line=2'>3</a>\u001b[0m wordcloud \u001b[39m=\u001b[39m WordCloud(width\u001b[39m=\u001b[39m\u001b[39m800\u001b[39m, height\u001b[39m=\u001b[39m\u001b[39m500\u001b[39m, random_state\u001b[39m=\u001b[39m\u001b[39m42\u001b[39m, max_font_size\u001b[39m=\u001b[39m\u001b[39m100\u001b[39m)\u001b[39m.\u001b[39mgenerate(all_words)\n\u001b[0;32m      <a href='vscode-notebook-cell:/c%3A/Users/Nithya/schmaltz-surveyor/LogisticRegression%20Model.ipynb#ch0000020?line=4'>5</a>\u001b[0m \u001b[39m#plot the graph\u001b[39;00m\n\u001b[0;32m      <a href='vscode-notebook-cell:/c%3A/Users/Nithya/schmaltz-surveyor/LogisticRegression%20Model.ipynb#ch0000020?line=5'>6</a>\u001b[0m plt\u001b[39m.\u001b[39mfigure(figsize\u001b[39m=\u001b[39m(\u001b[39m15\u001b[39m,\u001b[39m8\u001b[39m))\n",
      "\u001b[1;31mNameError\u001b[0m: name 'WordCloud' is not defined"
     ]
    }
   ],
   "source": [
    "#frequent word visualization for +ve\n",
    "all_words = \" \".join([sentence for sentence in df['clean_tweet'][df['label']==0]])\n",
    "wordcloud = WordCloud(width=800, height=500, random_state=42, max_font_size=100).generate(all_words)\n",
    "\n",
    "#plot the graph\n",
    "plt.figure(figsize=(15,8))\n",
    "plt.imshow(wordcloud, interpolation='bilinear')\n",
    "plt.axis('off')\n",
    "plt.show()"
   ]
  },
  {
   "cell_type": "code",
   "execution_count": null,
   "id": "211c8056",
   "metadata": {},
   "outputs": [
    {
     "ename": "NameError",
     "evalue": "name 'WordCloud' is not defined",
     "output_type": "error",
     "traceback": [
      "\u001b[1;31m---------------------------------------------------------------------------\u001b[0m",
      "\u001b[1;31mNameError\u001b[0m                                 Traceback (most recent call last)",
      "\u001b[1;32mc:\\Users\\Nithya\\schmaltz-surveyor\\LogisticRegression Model.ipynb Cell 22'\u001b[0m in \u001b[0;36m<cell line: 3>\u001b[1;34m()\u001b[0m\n\u001b[0;32m      <a href='vscode-notebook-cell:/c%3A/Users/Nithya/schmaltz-surveyor/LogisticRegression%20Model.ipynb#ch0000021?line=0'>1</a>\u001b[0m \u001b[39m#frequent word visualization for +ve\u001b[39;00m\n\u001b[0;32m      <a href='vscode-notebook-cell:/c%3A/Users/Nithya/schmaltz-surveyor/LogisticRegression%20Model.ipynb#ch0000021?line=1'>2</a>\u001b[0m all_words \u001b[39m=\u001b[39m \u001b[39m\"\u001b[39m\u001b[39m \u001b[39m\u001b[39m\"\u001b[39m\u001b[39m.\u001b[39mjoin([sentence \u001b[39mfor\u001b[39;00m sentence \u001b[39min\u001b[39;00m df[\u001b[39m'\u001b[39m\u001b[39mclean_tweet\u001b[39m\u001b[39m'\u001b[39m][df[\u001b[39m'\u001b[39m\u001b[39mlabel\u001b[39m\u001b[39m'\u001b[39m]\u001b[39m==\u001b[39m\u001b[39m1\u001b[39m]])\n\u001b[1;32m----> <a href='vscode-notebook-cell:/c%3A/Users/Nithya/schmaltz-surveyor/LogisticRegression%20Model.ipynb#ch0000021?line=2'>3</a>\u001b[0m wordcloud \u001b[39m=\u001b[39m WordCloud(width\u001b[39m=\u001b[39m\u001b[39m800\u001b[39m, height\u001b[39m=\u001b[39m\u001b[39m500\u001b[39m, random_state\u001b[39m=\u001b[39m\u001b[39m42\u001b[39m, max_font_size\u001b[39m=\u001b[39m\u001b[39m100\u001b[39m)\u001b[39m.\u001b[39mgenerate(all_words)\n\u001b[0;32m      <a href='vscode-notebook-cell:/c%3A/Users/Nithya/schmaltz-surveyor/LogisticRegression%20Model.ipynb#ch0000021?line=4'>5</a>\u001b[0m \u001b[39m#plot the graph\u001b[39;00m\n\u001b[0;32m      <a href='vscode-notebook-cell:/c%3A/Users/Nithya/schmaltz-surveyor/LogisticRegression%20Model.ipynb#ch0000021?line=5'>6</a>\u001b[0m plt\u001b[39m.\u001b[39mfigure(figsize\u001b[39m=\u001b[39m(\u001b[39m15\u001b[39m,\u001b[39m8\u001b[39m))\n",
      "\u001b[1;31mNameError\u001b[0m: name 'WordCloud' is not defined"
     ]
    }
   ],
   "source": [
    "#frequent word visualization for +ve\n",
    "all_words = \" \".join([sentence for sentence in df['clean_tweet'][df['label']==1]])\n",
    "wordcloud = WordCloud(width=800, height=500, random_state=42, max_font_size=100).generate(all_words)\n",
    "\n",
    "#plot the graph\n",
    "plt.figure(figsize=(15,8))\n",
    "plt.imshow(wordcloud, interpolation='bilinear')\n",
    "plt.axis('off')\n",
    "plt.show()"
   ]
  },
  {
   "cell_type": "code",
   "execution_count": null,
   "id": "60fcfa20",
   "metadata": {},
   "outputs": [],
   "source": [
    "# extract the hashtag\n",
    "def hashtag_extract(tweets):\n",
    "    hashtags = []\n",
    "    # loop words in the tweet\n",
    "    for tweet in tweets:\n",
    "        ht = re.findall(r\"#(\\w+)\", tweet)\n",
    "        hashtags.append(ht)\n",
    "    return hashtags "
   ]
  },
  {
   "cell_type": "code",
   "execution_count": null,
   "id": "19419bc9",
   "metadata": {},
   "outputs": [],
   "source": [
    "# extract hashtags from non-racist/sexist tweets\n",
    "ht_positive = hashtag_extract(df['clean_tweet'][df['label']==0])\n",
    "\n",
    "# extract hashtags from racist/sexist tweets\n",
    "ht_negative = hashtag_extract(df['clean_tweet'][df['label']==1])"
   ]
  },
  {
   "cell_type": "code",
   "execution_count": null,
   "id": "ba515bfa",
   "metadata": {},
   "outputs": [
    {
     "data": {
      "text/plain": [
       "[['run'],\n",
       " ['lyftcreditcaustheyofferwheelchairvan', 'disapoint', 'getthank'],\n",
       " [],\n",
       " ['modellovetakewithtime'],\n",
       " ['motiv']]"
      ]
     },
     "execution_count": 97,
     "metadata": {},
     "output_type": "execute_result"
    }
   ],
   "source": [
    "\n",
    "ht_positive[:5]"
   ]
  },
  {
   "cell_type": "code",
   "execution_count": null,
   "id": "75e7ea5b",
   "metadata": {},
   "outputs": [],
   "source": [
    "# unnest list\n",
    "ht_positive = sum(ht_positive, [])\n",
    "ht_negative = sum(ht_negative, [])"
   ]
  },
  {
   "cell_type": "code",
   "execution_count": null,
   "id": "ed7809be",
   "metadata": {},
   "outputs": [
    {
     "data": {
      "text/plain": [
       "['run',\n",
       " 'lyftcreditcaustheyofferwheelchairvan',\n",
       " 'disapoint',\n",
       " 'getthank',\n",
       " 'modellovetakewithtime']"
      ]
     },
     "execution_count": 99,
     "metadata": {},
     "output_type": "execute_result"
    }
   ],
   "source": [
    "ht_positive[:5]"
   ]
  },
  {
   "cell_type": "code",
   "execution_count": null,
   "id": "fd1192b9",
   "metadata": {},
   "outputs": [
    {
     "data": {
      "text/html": [
       "<div>\n",
       "<style scoped>\n",
       "    .dataframe tbody tr th:only-of-type {\n",
       "        vertical-align: middle;\n",
       "    }\n",
       "\n",
       "    .dataframe tbody tr th {\n",
       "        vertical-align: top;\n",
       "    }\n",
       "\n",
       "    .dataframe thead th {\n",
       "        text-align: right;\n",
       "    }\n",
       "</style>\n",
       "<table border=\"1\" class=\"dataframe\">\n",
       "  <thead>\n",
       "    <tr style=\"text-align: right;\">\n",
       "      <th></th>\n",
       "      <th>Hashtag</th>\n",
       "      <th>Count</th>\n",
       "    </tr>\n",
       "  </thead>\n",
       "  <tbody>\n",
       "    <tr>\n",
       "      <th>0</th>\n",
       "      <td>run</td>\n",
       "      <td>63</td>\n",
       "    </tr>\n",
       "    <tr>\n",
       "      <th>1</th>\n",
       "      <td>lyftcreditcaustheyofferwheelchairvan</td>\n",
       "      <td>1</td>\n",
       "    </tr>\n",
       "    <tr>\n",
       "      <th>2</th>\n",
       "      <td>disapoint</td>\n",
       "      <td>1</td>\n",
       "    </tr>\n",
       "    <tr>\n",
       "      <th>3</th>\n",
       "      <td>getthank</td>\n",
       "      <td>2</td>\n",
       "    </tr>\n",
       "    <tr>\n",
       "      <th>4</th>\n",
       "      <td>modellovetakewithtime</td>\n",
       "      <td>325</td>\n",
       "    </tr>\n",
       "  </tbody>\n",
       "</table>\n",
       "</div>"
      ],
      "text/plain": [
       "                                Hashtag  Count\n",
       "0                                   run     63\n",
       "1  lyftcreditcaustheyofferwheelchairvan      1\n",
       "2                             disapoint      1\n",
       "3                              getthank      2\n",
       "4                 modellovetakewithtime    325"
      ]
     },
     "execution_count": 100,
     "metadata": {},
     "output_type": "execute_result"
    }
   ],
   "source": [
    "freq = nltk.FreqDist(ht_positive)\n",
    "d = pd.DataFrame({'Hashtag': list(freq.keys()),\n",
    "                 'Count': list(freq.values())})\n",
    "d.head()"
   ]
  },
  {
   "cell_type": "code",
   "execution_count": null,
   "id": "a9222808",
   "metadata": {},
   "outputs": [
    {
     "data": {
      "image/png": "[encoded data removed]",
      "text/plain": [
       "<Figure size 1080x648 with 1 Axes>"
      ]
     },
     "metadata": {
      "needs_background": "light"
     },
     "output_type": "display_data"
    }
   ],
   "source": [
    "# select top 10 hashtags\n",
    "d = d.nlargest(columns='Count', n=10)\n",
    "plt.figure(figsize=(15,9))\n",
    "sns.barplot(data=d, x='Hashtag', y='Count')\n",
    "plt.show()"
   ]
  },
  {
   "cell_type": "code",
   "execution_count": null,
   "id": "34449589",
   "metadata": {},
   "outputs": [
    {
     "data": {
      "text/html": [
       "<div>\n",
       "<style scoped>\n",
       "    .dataframe tbody tr th:only-of-type {\n",
       "        vertical-align: middle;\n",
       "    }\n",
       "\n",
       "    .dataframe tbody tr th {\n",
       "        vertical-align: top;\n",
       "    }\n",
       "\n",
       "    .dataframe thead th {\n",
       "        text-align: right;\n",
       "    }\n",
       "</style>\n",
       "<table border=\"1\" class=\"dataframe\">\n",
       "  <thead>\n",
       "    <tr style=\"text-align: right;\">\n",
       "      <th></th>\n",
       "      <th>Hashtag</th>\n",
       "      <th>Count</th>\n",
       "    </tr>\n",
       "  </thead>\n",
       "  <tbody>\n",
       "    <tr>\n",
       "      <th>0</th>\n",
       "      <td>cnncall</td>\n",
       "      <td>2</td>\n",
       "    </tr>\n",
       "    <tr>\n",
       "      <th>1</th>\n",
       "      <td>michiganmiddlschoolbuildwallchant</td>\n",
       "      <td>2</td>\n",
       "    </tr>\n",
       "    <tr>\n",
       "      <th>2</th>\n",
       "      <td>tcot</td>\n",
       "      <td>13</td>\n",
       "    </tr>\n",
       "    <tr>\n",
       "      <th>3</th>\n",
       "      <td>australia</td>\n",
       "      <td>5</td>\n",
       "    </tr>\n",
       "    <tr>\n",
       "      <th>4</th>\n",
       "      <td>opkillingbay</td>\n",
       "      <td>5</td>\n",
       "    </tr>\n",
       "  </tbody>\n",
       "</table>\n",
       "</div>"
      ],
      "text/plain": [
       "                             Hashtag  Count\n",
       "0                            cnncall      2\n",
       "1  michiganmiddlschoolbuildwallchant      2\n",
       "2                               tcot     13\n",
       "3                          australia      5\n",
       "4                       opkillingbay      5"
      ]
     },
     "execution_count": 102,
     "metadata": {},
     "output_type": "execute_result"
    }
   ],
   "source": [
    "freq = nltk.FreqDist(ht_negative)\n",
    "d = pd.DataFrame({'Hashtag': list(freq.keys()),\n",
    "                 'Count': list(freq.values())})\n",
    "d.head()"
   ]
  },
  {
   "cell_type": "code",
   "execution_count": null,
   "id": "2c01dfd7",
   "metadata": {},
   "outputs": [
    {
     "data": {
      "image/png": "[encoded data removed]",
      "text/plain": [
       "<Figure size 1080x648 with 1 Axes>"
      ]
     },
     "metadata": {
      "needs_background": "light"
     },
     "output_type": "display_data"
    }
   ],
   "source": [
    "# select top 10 hashtags\n",
    "d = d.nlargest(columns='Count', n=10)\n",
    "plt.figure(figsize=(15,9))\n",
    "sns.barplot(data=d, x='Hashtag', y='Count')\n",
    "plt.show()"
   ]
  },
  {
   "cell_type": "markdown",
   "id": "71f49ba5",
   "metadata": {},
   "source": [
    "Using SVM"
   ]
  },
  {
   "cell_type": "code",
   "execution_count": 40,
   "id": "90359929",
   "metadata": {},
   "outputs": [],
   "source": [
    "from sklearn.model_selection import train_test_split"
   ]
  },
  {
   "cell_type": "code",
   "execution_count": 41,
   "id": "905735d3",
   "metadata": {},
   "outputs": [],
   "source": [
    "x=df['clean_tweet']\n",
    "y=df['label']\n",
    "from sklearn.model_selection import train_test_split\n",
    "X_train, X_test, y_train, y_test = train_test_split(x,y,test_size = 0.5, random_state=55)\n",
    "vectorizer = TfidfVectorizer()\n",
    "X_train_vec = vectorizer.fit_transform(X_train)\n",
    "X_test_vec = vectorizer.transform(X_test)\n"
   ]
  },
  {
   "cell_type": "code",
   "execution_count": 42,
   "id": "8c4fac17",
   "metadata": {},
   "outputs": [
    {
     "name": "stdout",
     "output_type": "stream",
     "text": [
      "Results for Support Vector Machine with tfidf\n",
      "0.9537575871347225\n"
     ]
    }
   ],
   "source": [
    "from sklearn import svm\n",
    "#params = {'kernel':('linear', 'rbf'), 'C':[1, 10, 100]}\n",
    "svcl = svm.SVC(kernel = 'rbf')\n",
    "#clf_sv = GridSearchCV(svcl, params)\n",
    "svcl.fit(X_train_vec, y_train)\n",
    "svcl_score = svcl.score(X_test_vec, y_test)\n",
    "print(\"Results for Support Vector Machine with tfidf\")\n",
    "print(svcl_score)\n"
   ]
  },
  {
   "cell_type": "code",
   "execution_count": 43,
   "id": "e6c5c6a4",
   "metadata": {},
   "outputs": [
    {
     "name": "stdout",
     "output_type": "stream",
     "text": [
      "413 721 18 14829\n",
      "0.9988 0.3642\n"
     ]
    }
   ],
   "source": [
    "y_pred_sv = svcl.predict(X_test_vec)\n",
    "#Confusion matrix\n",
    "from sklearn.metrics import confusion_matrix\n",
    "cm_sv = confusion_matrix(y_test, y_pred_sv)\n",
    "tn, fp, fn, tp = confusion_matrix(y_test, y_pred_sv).ravel()\n",
    "print(tn, fp, fn, tp)\n",
    "tpr_sv = round(tp/(tp + fn), 4)\n",
    "tnr_sv = round(tn/(tn+fp), 4)\n",
    "print(tpr_sv, tnr_sv)"
   ]
  },
  {
   "cell_type": "markdown",
   "id": "bb5bd10d",
   "metadata": {},
   "source": [
    "## Logistic Regression"
   ]
  },
  {
   "cell_type": "code",
   "execution_count": 44,
   "id": "040940ac",
   "metadata": {},
   "outputs": [],
   "source": [
    "from sklearn.model_selection import train_test_split\n",
    "\n",
    "X_train, X_test, y_train, y_test = train_test_split(x, y, test_size = 0.5, random_state=45)\n",
    "from sklearn.feature_extraction.text import TfidfVectorizer"
   ]
  },
  {
   "cell_type": "code",
   "execution_count": 45,
   "id": "90962856",
   "metadata": {},
   "outputs": [],
   "source": [
    "vectorizer = TfidfVectorizer()\n",
    "X_train_vec = vectorizer.fit_transform(X_train)\n",
    "X_test_vec = vectorizer.transform(X_test)\n",
    "from sklearn.linear_model import LogisticRegression\n",
    "lr = LogisticRegression()"
   ]
  },
  {
   "cell_type": "code",
   "execution_count": 46,
   "id": "e1f75db9",
   "metadata": {},
   "outputs": [
    {
     "name": "stdout",
     "output_type": "stream",
     "text": [
      "Results for Logistic Regression with tfidf\n",
      "0.9449971841561855\n"
     ]
    }
   ],
   "source": [
    "lr.fit(X_train_vec, y_train)\n",
    "lr_score = lr.score(X_test_vec, y_test)\n",
    "print(\"Results for Logistic Regression with tfidf\")\n",
    "print(lr_score)\n",
    "y_pred_lr = lr.predict(X_test_vec)\n"
   ]
  },
  {
   "cell_type": "code",
   "execution_count": 47,
   "id": "86d66cca",
   "metadata": {},
   "outputs": [
    {
     "name": "stdout",
     "output_type": "stream",
     "text": [
      "267 856 23 14835\n",
      "0.9985 0.2378\n"
     ]
    }
   ],
   "source": [
    "#Confusion matrix\n",
    "from sklearn.metrics import confusion_matrix\n",
    "cm_knn = confusion_matrix(y_test, y_pred_lr)\n",
    "tn, fp, fn, tp = confusion_matrix(y_test, y_pred_lr).ravel()\n",
    "print(tn, fp, fn, tp)\n",
    "tpr_knn = round(tp/(tp + fn), 4)\n",
    "tnr_knn = round(tn/(tn+fp), 4)\n",
    "print(tpr_knn, tnr_knn)"
   ]
  }
 ],
 "metadata": {
  "kernelspec": {
   "display_name": "Python 3.9.5 64-bit",
   "language": "python",
   "name": "python3"
  },
  "language_info": {
   "codemirror_mode": {
    "name": "ipython",
    "version": 3
   },
   "file_extension": ".py",
   "mimetype": "text/x-python",
   "name": "python",
   "nbconvert_exporter": "python",
   "pygments_lexer": "ipython3",
   "version": "3.9.5"
  },
  "vscode": {
   "interpreter": {
    "hash": "81794d4967e6c3204c66dcd87b604927b115b27c00565d3d43f05ba2f3a2cb0d"
   }
  }
 },
 "nbformat": 4,
 "nbformat_minor": 5
}
