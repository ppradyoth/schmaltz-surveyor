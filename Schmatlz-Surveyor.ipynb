{
 "cells": [
  {
   "cell_type": "markdown",
   "id": "a7009118",
   "metadata": {},
   "source": [
    "# Schmaltz Surveyor"
   ]
  },
  {
   "cell_type": "markdown",
   "id": "1b71f671",
   "metadata": {},
   "source": [
    "### Minor Project : IS6C06"
   ]
  },
  {
   "cell_type": "markdown",
   "id": "789dd730",
   "metadata": {},
   "source": [
    "###### Social media has gained immense popularity and has become a major global platform to stay connected as well as express opinions. \n",
    "A huge amount of content is created on various topics and comments are posted on these platforms daily. \n",
    "The feedback received on a certain piece of content can be either negative or positive. \n",
    "Other than this, receiving negative feedback, on various occasions might affect the mental health of the content creators and, in some cases, might also lead to cyberbullying.\n",
    "Social media is a necessity in today’s time to stay connected, informed, and relevant and therefore such issues must be tackled.\n",
    "Schmaltz refers to excessive sentimentality. Therefore this project has been named Schmaltz Surveyor, which aims to analyze the sentiments expressed by Twitter users.\n",
    "\n",
    "Sentimental Analysis reads people’s sentiments or emotions towards particular things or topics. \n",
    "Sentiment analysis is a machine learning tool that will help analyze and categorize the texts as positive or negative. "
   ]
  },
  {
   "cell_type": "markdown",
   "id": "11f115a6",
   "metadata": {},
   "source": [
    "Twitter API\n",
    "\n",
    "API KEY:nKYTHw8FJ45dtxKbnURY7Nvuz\n",
    "\n",
    "API KEY SECRET: GxOl2B8DdpNZHOHyuXC3t532bQxFCGQ21fCaBhPGYVfnctY8fF\n",
    "\n",
    "BEARER TOKEN: AAAAAAAAAAAAAAAAAAAAAEP%2BdwEAAAAALx0u1OMKUmSG5AWdb6VCUDqidpc%3DCfofMwpDAQTZBQueUjByhHgPyP0owALoKPUcQqz8JGtUGGOIbE\n",
    "\n",
    "ACCESS TOKEN: 1539172679416066048-wdwJRdNyA3f6rWwdZYfVaUv3R8U4PQ\n",
    "\n",
    "ACCESS TOKEN SECRET: Me6aRljMhOSQUUcHQSQrIISbVIvxvQiOmLrUtmIblkLPR"
   ]
  },
  {
   "cell_type": "markdown",
   "id": "51beff0f",
   "metadata": {},
   "source": [
    "### Extracting Dataset from Twitter"
   ]
  },
  {
   "cell_type": "code",
   "execution_count": 8,
   "id": "c4ac58cb",
   "metadata": {},
   "outputs": [],
   "source": [
    "#pip3 install -U textblob\n",
    "#pip3 install tweepy\n",
    "#python3 -m textblob.download_corpora"
   ]
  },
  {
   "cell_type": "code",
   "execution_count": 8,
   "id": "4f6b73f5",
   "metadata": {
    "scrolled": true
   },
   "outputs": [
    {
     "ename": "AttributeError",
     "evalue": "'API' object has no attribute 'search'",
     "output_type": "error",
     "traceback": [
      "\u001b[0;31m---------------------------------------------------------------------------\u001b[0m",
      "\u001b[0;31mAttributeError\u001b[0m                            Traceback (most recent call last)",
      "Input \u001b[0;32mIn [8]\u001b[0m, in \u001b[0;36m<cell line: 13>\u001b[0;34m()\u001b[0m\n\u001b[1;32m     11\u001b[0m csvFile \u001b[38;5;241m=\u001b[39m \u001b[38;5;28mopen\u001b[39m(\u001b[38;5;124m'\u001b[39m\u001b[38;5;124melon.csv\u001b[39m\u001b[38;5;124m'\u001b[39m, \u001b[38;5;124m'\u001b[39m\u001b[38;5;124ma\u001b[39m\u001b[38;5;124m'\u001b[39m)\n\u001b[1;32m     12\u001b[0m csvWriter \u001b[38;5;241m=\u001b[39m csv\u001b[38;5;241m.\u001b[39mwriter(csvFile)\n\u001b[0;32m---> 13\u001b[0m \u001b[38;5;28;01mfor\u001b[39;00m tweet \u001b[38;5;129;01min\u001b[39;00m tweepy\u001b[38;5;241m.\u001b[39mCursor(\u001b[43mapi\u001b[49m\u001b[38;5;241;43m.\u001b[39;49m\u001b[43msearch\u001b[49m,\n\u001b[1;32m     14\u001b[0m                            q \u001b[38;5;241m=\u001b[39m \u001b[38;5;124m\"\u001b[39m\u001b[38;5;124melonmusk\u001b[39m\u001b[38;5;124m\"\u001b[39m,\n\u001b[1;32m     15\u001b[0m                            since \u001b[38;5;241m=\u001b[39m \u001b[38;5;124m\"\u001b[39m\u001b[38;5;124m2018-05-21\u001b[39m\u001b[38;5;124m\"\u001b[39m,\n\u001b[1;32m     16\u001b[0m                            until \u001b[38;5;241m=\u001b[39m \u001b[38;5;124m\"\u001b[39m\u001b[38;5;124m2022-05-21\u001b[39m\u001b[38;5;124m\"\u001b[39m,\n\u001b[1;32m     17\u001b[0m                            lang \u001b[38;5;241m=\u001b[39m \u001b[38;5;124m\"\u001b[39m\u001b[38;5;124men\u001b[39m\u001b[38;5;124m\"\u001b[39m)\u001b[38;5;241m.\u001b[39mitems():\n\u001b[1;32m     18\u001b[0m     csvWriter\u001b[38;5;241m.\u001b[39mwriterow([tweet\u001b[38;5;241m.\u001b[39mcreated_at, tweet\u001b[38;5;241m.\u001b[39mtext\u001b[38;5;241m.\u001b[39mencode(\u001b[38;5;124m'\u001b[39m\u001b[38;5;124mutf-8\u001b[39m\u001b[38;5;124m'\u001b[39m)])\n\u001b[1;32m     19\u001b[0m     \u001b[38;5;28mprint\u001b[39m(tweet\u001b[38;5;241m.\u001b[39mcreated_at, tweet\u001b[38;5;241m.\u001b[39mtext)\n",
      "\u001b[0;31mAttributeError\u001b[0m: 'API' object has no attribute 'search'"
     ]
    }
   ],
   "source": [
    "#IMPORT FILES AND GIVE TOKEN KEY ACCESS\n",
    "import tweepy,json,csv\n",
    "import pandas as pd\n",
    "access_token=\"1539172679416066048-wdwJRdNyA3f6rWwdZYfVaUv3R8U4PQ\"\n",
    "access_token_secret=\"Me6aRljMhOSQUUcHQSQrIISbVIvxvQiOmLrUtmIblkLPR\"\n",
    "consumer_key=\"nKYTHw8FJ45dtxKbnURY7Nvuz\"\n",
    "consumer_secret=\"GxOl2B8DdpNZHOHyuXC3t532bQxFCGQ21fCaBhPGYVfnctY8fF\"\n",
    "auth= tweepy.OAuthHandler(consumer_key,consumer_secret)\n",
    "auth.set_access_token(access_token,access_token_secret)\n",
    "api=tweepy.API(auth)\n",
    "csvFile = open('elon.csv', 'a')\n",
    "csvWriter = csv.writer(csvFile)\n",
    "for tweet in tweepy.Cursor(api.search,\n",
    "                           q = \"elonmusk\",\n",
    "                           since = \"2018-05-21\",\n",
    "                           until = \"2022-05-21\",\n",
    "                           lang = \"en\").items():\n",
    "    csvWriter.writerow([tweet.created_at, tweet.text.encode('utf-8')])\n",
    "    print(tweet.created_at, tweet.text)\n",
    "csvFile.close()\n",
    "\n",
    "# created_at = []\n",
    "# text = []\n",
    "# for tweet in tweepy.Cursor(api.search_tweets,q=[\"#elonmusk\"],count=100,\n",
    "#                            lang=\"en\",\n",
    "#                            until=\"2022-05-21\").items():\n",
    "#     print (tweet.created_at, tweet.text)\n",
    "#     csvWriter.writerow([tweet.created_at, tweet.text.encode('utf-8')])\n",
    "#     created_at.append(tweet.created_at)\n",
    "#     text.append(tweet.text)\n",
    "df =  pd.DataFrame(\n",
    "    {'created_at': created_at,\n",
    "     'tweet': text\n",
    "    })\n",
    "# df #RT (Retweets) are duplicates since Twitter is an echo chamber; will need to get rid of duplicates\n",
    "# df_clean = df[~df.tweet.str.contains(\"RT\")]\n",
    "# df_clean"
   ]
  },
  {
   "cell_type": "code",
   "execution_count": 6,
   "id": "018893e7",
   "metadata": {},
   "outputs": [
    {
     "data": {
      "text/html": [
       "<div>\n",
       "<style scoped>\n",
       "    .dataframe tbody tr th:only-of-type {\n",
       "        vertical-align: middle;\n",
       "    }\n",
       "\n",
       "    .dataframe tbody tr th {\n",
       "        vertical-align: top;\n",
       "    }\n",
       "\n",
       "    .dataframe thead th {\n",
       "        text-align: right;\n",
       "    }\n",
       "</style>\n",
       "<table border=\"1\" class=\"dataframe\">\n",
       "  <thead>\n",
       "    <tr style=\"text-align: right;\">\n",
       "      <th></th>\n",
       "      <th>created_at</th>\n",
       "      <th>tweet</th>\n",
       "    </tr>\n",
       "  </thead>\n",
       "  <tbody>\n",
       "  </tbody>\n",
       "</table>\n",
       "</div>"
      ],
      "text/plain": [
       "Empty DataFrame\n",
       "Columns: [created_at, tweet]\n",
       "Index: []"
      ]
     },
     "execution_count": 6,
     "metadata": {},
     "output_type": "execute_result"
    }
   ],
   "source": [
    "df.head()"
   ]
  },
  {
   "cell_type": "code",
   "execution_count": null,
   "id": "f72af8cb",
   "metadata": {},
   "outputs": [],
   "source": []
  }
 ],
 "metadata": {
  "kernelspec": {
   "display_name": "Python 3 (ipykernel)",
   "language": "python",
   "name": "python3"
  },
  "language_info": {
   "codemirror_mode": {
    "name": "ipython",
    "version": 3
   },
   "file_extension": ".py",
   "mimetype": "text/x-python",
   "name": "python",
   "nbconvert_exporter": "python",
   "pygments_lexer": "ipython3",
   "version": "3.9.13"
  }
 },
 "nbformat": 4,
 "nbformat_minor": 5
}
